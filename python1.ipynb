{
 "cells": [
  {
   "cell_type": "code",
   "execution_count": 3,
   "id": "e980776e",
   "metadata": {},
   "outputs": [],
   "source": [
    "def write_to_csv(filename, data):\n",
    "    with open(filename, 'w', newline='') as file:\n",
    "        writer = csv.writer(file)\n",
    "        writer.writerows(data)\n",
    "\n",
    "data = [['Name', 'Age', 'Gender'],\n",
    "        ['John', '23', 'Male'],\n",
    "        ['Jane', '25', 'Female']]\n",
    "write_to_csv('cleaned_data.csv', data)"
   ]
  },
  {
   "cell_type": "code",
   "execution_count": 3,
   "id": "5a49467b",
   "metadata": {},
   "outputs": [],
   "source": [
    "import pandas as pd"
   ]
  },
  {
   "cell_type": "code",
   "execution_count": 4,
   "id": "51c9cb24",
   "metadata": {},
   "outputs": [
    {
     "data": {
      "text/plain": [
       "Duration    0\n",
       "Date        0\n",
       "Pulse       3\n",
       "MaxPulse    3\n",
       "Calories    0\n",
       "dtype: int64"
      ]
     },
     "execution_count": 4,
     "metadata": {},
     "output_type": "execute_result"
    }
   ],
   "source": [
    "#replace null with one value\n",
    "dsn=pd.read_csv(\"C:\\\\Users\\\\bhargavi\\\\python\\\\data_cleaning.csv\")\n",
    "dsn[\"Calories\"].fillna(130,inplace=True)\n",
    "pd.isnull(dsn).sum()"
   ]
  },
  {
   "cell_type": "code",
   "execution_count": 5,
   "id": "eaaaf225",
   "metadata": {},
   "outputs": [
    {
     "data": {
      "text/plain": [
       "Duration    0\n",
       "Date        0\n",
       "Pulse       3\n",
       "MaxPulse    0\n",
       "Calories    0\n",
       "dtype: int64"
      ]
     },
     "execution_count": 5,
     "metadata": {},
     "output_type": "execute_result"
    }
   ],
   "source": [
    "#replace null with mean\n",
    "dsn[\"MaxPulse\"].fillna(dsn[\"MaxPulse\"].mean(),inplace=True)\n",
    "pd.isnull(dsn).sum()"
   ]
  },
  {
   "cell_type": "code",
   "execution_count": 6,
   "id": "018906b2",
   "metadata": {},
   "outputs": [
    {
     "data": {
      "text/html": [
       "<div>\n",
       "<style scoped>\n",
       "    .dataframe tbody tr th:only-of-type {\n",
       "        vertical-align: middle;\n",
       "    }\n",
       "\n",
       "    .dataframe tbody tr th {\n",
       "        vertical-align: top;\n",
       "    }\n",
       "\n",
       "    .dataframe thead th {\n",
       "        text-align: right;\n",
       "    }\n",
       "</style>\n",
       "<table border=\"1\" class=\"dataframe\">\n",
       "  <thead>\n",
       "    <tr style=\"text-align: right;\">\n",
       "      <th></th>\n",
       "      <th>Duration</th>\n",
       "      <th>Date</th>\n",
       "      <th>Pulse</th>\n",
       "      <th>MaxPulse</th>\n",
       "      <th>Calories</th>\n",
       "    </tr>\n",
       "  </thead>\n",
       "  <tbody>\n",
       "    <tr>\n",
       "      <th>0</th>\n",
       "      <td>57.500000</td>\n",
       "      <td>'2020/12/01'</td>\n",
       "      <td>110.0</td>\n",
       "      <td>130.000000</td>\n",
       "      <td>409.1</td>\n",
       "    </tr>\n",
       "    <tr>\n",
       "      <th>1</th>\n",
       "      <td>57.421875</td>\n",
       "      <td>'2020/12/02'</td>\n",
       "      <td>117.0</td>\n",
       "      <td>145.000000</td>\n",
       "      <td>479.0</td>\n",
       "    </tr>\n",
       "    <tr>\n",
       "      <th>2</th>\n",
       "      <td>57.341309</td>\n",
       "      <td>'2020/12/03'</td>\n",
       "      <td>103.0</td>\n",
       "      <td>135.000000</td>\n",
       "      <td>340.0</td>\n",
       "    </tr>\n",
       "    <tr>\n",
       "      <th>3</th>\n",
       "      <td>57.258224</td>\n",
       "      <td>'2020/12/04'</td>\n",
       "      <td>109.0</td>\n",
       "      <td>175.000000</td>\n",
       "      <td>282.4</td>\n",
       "    </tr>\n",
       "    <tr>\n",
       "      <th>4</th>\n",
       "      <td>57.641294</td>\n",
       "      <td>'2020/12/05'</td>\n",
       "      <td>117.0</td>\n",
       "      <td>148.000000</td>\n",
       "      <td>406.0</td>\n",
       "    </tr>\n",
       "    <tr>\n",
       "      <th>5</th>\n",
       "      <td>58.036334</td>\n",
       "      <td>'2020/12/06'</td>\n",
       "      <td>102.0</td>\n",
       "      <td>127.000000</td>\n",
       "      <td>300.0</td>\n",
       "    </tr>\n",
       "    <tr>\n",
       "      <th>6</th>\n",
       "      <td>57.974970</td>\n",
       "      <td>'2020/12/07'</td>\n",
       "      <td>110.0</td>\n",
       "      <td>136.000000</td>\n",
       "      <td>374.0</td>\n",
       "    </tr>\n",
       "    <tr>\n",
       "      <th>7</th>\n",
       "      <td>57.911688</td>\n",
       "      <td>'2020/12/08'</td>\n",
       "      <td>104.0</td>\n",
       "      <td>134.000000</td>\n",
       "      <td>253.3</td>\n",
       "    </tr>\n",
       "    <tr>\n",
       "      <th>8</th>\n",
       "      <td>56.596428</td>\n",
       "      <td>'2020/12/09'</td>\n",
       "      <td>109.0</td>\n",
       "      <td>133.000000</td>\n",
       "      <td>195.1</td>\n",
       "    </tr>\n",
       "    <tr>\n",
       "      <th>9</th>\n",
       "      <td>57.427566</td>\n",
       "      <td>'2020/12/10'</td>\n",
       "      <td>98.0</td>\n",
       "      <td>129.068966</td>\n",
       "      <td>269.0</td>\n",
       "    </tr>\n",
       "  </tbody>\n",
       "</table>\n",
       "</div>"
      ],
      "text/plain": [
       "    Duration          Date  Pulse    MaxPulse  Calories\n",
       "0  57.500000  '2020/12/01'  110.0  130.000000     409.1\n",
       "1  57.421875  '2020/12/02'  117.0  145.000000     479.0\n",
       "2  57.341309  '2020/12/03'  103.0  135.000000     340.0\n",
       "3  57.258224  '2020/12/04'  109.0  175.000000     282.4\n",
       "4  57.641294  '2020/12/05'  117.0  148.000000     406.0\n",
       "5  58.036334  '2020/12/06'  102.0  127.000000     300.0\n",
       "6  57.974970  '2020/12/07'  110.0  136.000000     374.0\n",
       "7  57.911688  '2020/12/08'  104.0  134.000000     253.3\n",
       "8  56.596428  '2020/12/09'  109.0  133.000000     195.1\n",
       "9  57.427566  '2020/12/10'   98.0  129.068966     269.0"
      ]
     },
     "execution_count": 6,
     "metadata": {},
     "output_type": "execute_result"
    }
   ],
   "source": [
    "#replace unusual value with mean\n",
    "import numpy as np\n",
    "for x in dsn.index:\n",
    "    #if dsn.loc[x,\"Duration\"] > 60:\n",
    "        dsn.loc[x,\"Duration\"]=dsn.Duration.replace(450,100).mean()\n",
    "dsn.head(10) "
   ]
  },
  {
   "cell_type": "code",
   "execution_count": 8,
   "id": "b454fa88",
   "metadata": {},
   "outputs": [
    {
     "name": "stdout",
     "output_type": "stream",
     "text": [
      "<class 'pandas.core.frame.DataFrame'>\n",
      "RangeIndex: 32 entries, 0 to 31\n",
      "Data columns (total 5 columns):\n",
      " #   Column    Non-Null Count  Dtype         \n",
      "---  ------    --------------  -----         \n",
      " 0   Duration  32 non-null     float64       \n",
      " 1   Date      32 non-null     datetime64[ns]\n",
      " 2   Pulse     29 non-null     float64       \n",
      " 3   MaxPulse  32 non-null     float64       \n",
      " 4   Calories  32 non-null     float64       \n",
      "dtypes: datetime64[ns](1), float64(4)\n",
      "memory usage: 1.4 KB\n"
     ]
    }
   ],
   "source": [
    "#converting to date time format\n",
    "dsn['Date']=pd.to_datetime(dsn['Date'])\n",
    "dsn.info()"
   ]
  },
  {
   "cell_type": "code",
   "execution_count": 9,
   "id": "b224cc5c",
   "metadata": {},
   "outputs": [
    {
     "name": "stdout",
     "output_type": "stream",
     "text": [
      "0     False\n",
      "1     False\n",
      "2     False\n",
      "3     False\n",
      "4     False\n",
      "5     False\n",
      "6     False\n",
      "7     False\n",
      "8     False\n",
      "9     False\n",
      "10    False\n",
      "11    False\n",
      "12    False\n",
      "13    False\n",
      "14    False\n",
      "15    False\n",
      "16    False\n",
      "17    False\n",
      "18    False\n",
      "19    False\n",
      "20    False\n",
      "21    False\n",
      "22    False\n",
      "23    False\n",
      "24    False\n",
      "25    False\n",
      "26    False\n",
      "27    False\n",
      "28    False\n",
      "29    False\n",
      "30    False\n",
      "31    False\n",
      "dtype: bool\n"
     ]
    }
   ],
   "source": [
    "#drop duplicates\n",
    "print(dsn.duplicated())"
   ]
  },
  {
   "cell_type": "markdown",
   "id": "2dd4b560",
   "metadata": {},
   "source": [
    "### assignment\n",
    "### typecasting problems converting datatypes to diff datatypes\n"
   ]
  },
  {
   "cell_type": "markdown",
   "id": "a8f7f7ff",
   "metadata": {},
   "source": [
    "### take 2 dates get its difference in days,months and year"
   ]
  },
  {
   "cell_type": "code",
   "execution_count": 1,
   "id": "080c9ded",
   "metadata": {},
   "outputs": [
    {
     "name": "stdout",
     "output_type": "stream",
     "text": [
      "True\n"
     ]
    }
   ],
   "source": [
    "x=y=5,10\n",
    "res= x==y\n",
    "print(res)"
   ]
  },
  {
   "cell_type": "code",
   "execution_count": 2,
   "id": "c37618f9",
   "metadata": {},
   "outputs": [
    {
     "name": "stdout",
     "output_type": "stream",
     "text": [
      "(5, 10) (5, 10)\n"
     ]
    }
   ],
   "source": [
    "x=y=5,10\n",
    "print(x,y)"
   ]
  },
  {
   "cell_type": "code",
   "execution_count": 3,
   "id": "0de0a224",
   "metadata": {},
   "outputs": [],
   "source": [
    "res= x==y"
   ]
  },
  {
   "cell_type": "code",
   "execution_count": 4,
   "id": "f7ec5293",
   "metadata": {},
   "outputs": [
    {
     "name": "stdout",
     "output_type": "stream",
     "text": [
      "True\n"
     ]
    }
   ],
   "source": [
    "print(res)"
   ]
  },
  {
   "cell_type": "code",
   "execution_count": 6,
   "id": "2293468d",
   "metadata": {},
   "outputs": [
    {
     "name": "stdout",
     "output_type": "stream",
     "text": [
      "Difference in days: 761\n",
      "Difference in years (approximate): 2.083504449007529\n",
      "Difference in months(approximate): 25.0\n",
      "Difference in seconds: 65750400.0\n",
      "Difference in hours: 18264.0\n",
      "Difference in minutes: 1095840.0\n"
     ]
    }
   ],
   "source": [
    "from datetime import datetime\n",
    "\n",
    "date1 = datetime(2021, 1, 1)\n",
    "date2 = datetime(2023, 2, 1)\n",
    "\n",
    "difference = date2 - date1\n",
    "\n",
    "# Difference in days\n",
    "print(\"Difference in days:\", difference.days)\n",
    "\n",
    "# Difference in years\n",
    "years = difference.days / 365.25\n",
    "print(\"Difference in years (approximate):\", years)\n",
    "\n",
    "#Difference in months \n",
    "years=difference.days / 30.44\n",
    "print(\"Difference in months(approximate):\",months)\n",
    "\n",
    "\n",
    "# Difference in seconds\n",
    "print(\"Difference in seconds:\", difference.total_seconds())\n",
    "\n",
    "# Difference in hours\n",
    "print(\"Difference in hours:\", difference.total_seconds() / 3600)\n",
    "\n",
    "# Difference in minutes\n",
    "print(\"Difference in minutes:\", difference.total_seconds() / 60)"
   ]
  },
  {
   "cell_type": "code",
   "execution_count": 5,
   "id": "a6f3dfa7",
   "metadata": {},
   "outputs": [
    {
     "name": "stdout",
     "output_type": "stream",
     "text": [
      "Difference in days: 761\n",
      "Difference in months (approximate): 25.0\n",
      "Difference in years (approximate): 2.083561493812288\n"
     ]
    }
   ],
   "source": [
    "#\n",
    "from datetime import datetime, timedelta\n",
    "\n",
    "date1 = datetime.strptime(\"2021-01-01\", \"%Y-%m-%d\")\n",
    "date2 = datetime.strptime(\"2023-02-01\", \"%Y-%m-%d\")\n",
    "\n",
    "difference = date2 - date1\n",
    "\n",
    "# Difference in days\n",
    "print(\"Difference in days:\", difference.days)\n",
    "\n",
    "# Difference in months (approximate)\n",
    "months = difference.days / 30.44\n",
    "print(\"Difference in months (approximate):\",months)\n",
    "\n",
    "# Difference in years (approximate)\n",
    "years = difference.days / 365.24\n",
    "print(\"Difference in years (approximate):\", years)\n"
   ]
  },
  {
   "cell_type": "code",
   "execution_count": 7,
   "id": "263ec73a",
   "metadata": {},
   "outputs": [
    {
     "name": "stdout",
     "output_type": "stream",
     "text": [
      "Difference in days: 6920\n",
      "Difference in months (approximate): 227.33245729303547\n",
      "Difference in years (approximate): 18.946446172379805\n"
     ]
    }
   ],
   "source": [
    "#my data\n",
    "from datetime import datetime, timedelta\n",
    "\n",
    "date1 = datetime.strptime(\"2004-03-15\", \"%Y-%m-%d\")\n",
    "date2 = datetime.strptime(\"2023-02-24\", \"%Y-%m-%d\")\n",
    "\n",
    "difference = date2 - date1\n",
    "\n",
    "# Difference in days\n",
    "print(\"Difference in days:\", difference.days)\n",
    "\n",
    "# Difference in months (approximate)\n",
    "months = difference.days / 30.44\n",
    "print(\"Difference in months (approximate):\",months)\n",
    "\n",
    "# Difference in years (approximate)\n",
    "years = difference.days / 365.24\n",
    "print(\"Difference in years (approximate):\", years)\n"
   ]
  },
  {
   "cell_type": "code",
   "execution_count": 1,
   "id": "f38a9eb9",
   "metadata": {},
   "outputs": [
    {
     "name": "stdout",
     "output_type": "stream",
     "text": [
      "Difference in days: 6962\n",
      "Difference in months (approximate): 228.71222076215506\n",
      "Difference in years (approximate): 19.06143905377286\n"
     ]
    }
   ],
   "source": [
    "from datetime import datetime, timedelta\n",
    "\n",
    "date1 = datetime.strptime(\"2004-03-15\", \"%Y-%m-%d\")\n",
    "date2 = datetime.strptime(\"2023-04-07\", \"%Y-%m-%d\")\n",
    "\n",
    "difference = date2 - date1\n",
    "\n",
    "# Difference in days\n",
    "print(\"Difference in days:\", difference.days)\n",
    "\n",
    "# Difference in months (approximate)\n",
    "months = difference.days / 30.44\n",
    "print(\"Difference in months (approximate):\",months)\n",
    "\n",
    "# Difference in years (approximate)\n",
    "years = difference.days / 365.24\n",
    "print(\"Difference in years (approximate):\", years)"
   ]
  },
  {
   "cell_type": "markdown",
   "id": "7d3b86e0",
   "metadata": {},
   "source": [
    "### 19 completed 20 running\n"
   ]
  },
  {
   "cell_type": "code",
   "execution_count": null,
   "id": "39e46624",
   "metadata": {},
   "outputs": [],
   "source": []
  }
 ],
 "metadata": {
  "kernelspec": {
   "display_name": "Python 3 (ipykernel)",
   "language": "python",
   "name": "python3"
  },
  "language_info": {
   "codemirror_mode": {
    "name": "ipython",
    "version": 3
   },
   "file_extension": ".py",
   "mimetype": "text/x-python",
   "name": "python",
   "nbconvert_exporter": "python",
   "pygments_lexer": "ipython3",
   "version": "3.9.13"
  }
 },
 "nbformat": 4,
 "nbformat_minor": 5
}
