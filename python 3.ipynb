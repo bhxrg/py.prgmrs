{
 "cells": [
  {
   "cell_type": "code",
   "execution_count": 2,
   "id": "27487661",
   "metadata": {},
   "outputs": [],
   "source": [
    "#read file df1.csv\n",
    "import pandas as pd\n",
    "df1=pd.read_csv(\"C:\\\\Users\\\\prasanna\\\\df1.csv\")"
   ]
  },
  {
   "cell_type": "code",
   "execution_count": 4,
   "id": "360dae1d",
   "metadata": {},
   "outputs": [
    {
     "data": {
      "text/html": [
       "<div>\n",
       "<style scoped>\n",
       "    .dataframe tbody tr th:only-of-type {\n",
       "        vertical-align: middle;\n",
       "    }\n",
       "\n",
       "    .dataframe tbody tr th {\n",
       "        vertical-align: top;\n",
       "    }\n",
       "\n",
       "    .dataframe thead th {\n",
       "        text-align: right;\n",
       "    }\n",
       "</style>\n",
       "<table border=\"1\" class=\"dataframe\">\n",
       "  <thead>\n",
       "    <tr style=\"text-align: right;\">\n",
       "      <th></th>\n",
       "      <th>RollNo</th>\n",
       "      <th>Name</th>\n",
       "      <th>Age</th>\n",
       "      <th>Gender</th>\n",
       "      <th>Country</th>\n",
       "      <th>Course</th>\n",
       "    </tr>\n",
       "  </thead>\n",
       "  <tbody>\n",
       "    <tr>\n",
       "      <th>2</th>\n",
       "      <td>mit23f1010</td>\n",
       "      <td>Kerin</td>\n",
       "      <td>26</td>\n",
       "      <td>M</td>\n",
       "      <td>Italy</td>\n",
       "      <td>Biology</td>\n",
       "    </tr>\n",
       "    <tr>\n",
       "      <th>3</th>\n",
       "      <td>mit23f1011</td>\n",
       "      <td>Alexander</td>\n",
       "      <td>23</td>\n",
       "      <td>M</td>\n",
       "      <td>Germany</td>\n",
       "      <td>Chemistry</td>\n",
       "    </tr>\n",
       "    <tr>\n",
       "      <th>4</th>\n",
       "      <td>mit23f1012</td>\n",
       "      <td>Anna</td>\n",
       "      <td>25</td>\n",
       "      <td>F</td>\n",
       "      <td>USA</td>\n",
       "      <td>Biology</td>\n",
       "    </tr>\n",
       "    <tr>\n",
       "      <th>5</th>\n",
       "      <td>mit23f1013</td>\n",
       "      <td>Katherine</td>\n",
       "      <td>24</td>\n",
       "      <td>F</td>\n",
       "      <td>USA</td>\n",
       "      <td>Chemistry</td>\n",
       "    </tr>\n",
       "  </tbody>\n",
       "</table>\n",
       "</div>"
      ],
      "text/plain": [
       "       RollNo       Name  Age Gender  Country     Course\n",
       "2  mit23f1010      Kerin   26      M    Italy    Biology\n",
       "3  mit23f1011  Alexander   23      M  Germany  Chemistry\n",
       "4  mit23f1012       Anna   25      F      USA    Biology\n",
       "5  mit23f1013  Katherine   24      F      USA  Chemistry"
      ]
     },
     "execution_count": 4,
     "metadata": {},
     "output_type": "execute_result"
    }
   ],
   "source": [
    "#print 2nd to 5th row\n",
    "df1[2:6]"
   ]
  },
  {
   "cell_type": "code",
   "execution_count": 5,
   "id": "37a623ae",
   "metadata": {},
   "outputs": [
    {
     "data": {
      "text/plain": [
       "'Gender'"
      ]
     },
     "execution_count": 5,
     "metadata": {},
     "output_type": "execute_result"
    }
   ],
   "source": [
    "#print 3rd column\n",
    "df1.columns[3]"
   ]
  },
  {
   "cell_type": "code",
   "execution_count": 4,
   "id": "ddde12a6",
   "metadata": {},
   "outputs": [
    {
     "data": {
      "text/html": [
       "<div>\n",
       "<style scoped>\n",
       "    .dataframe tbody tr th:only-of-type {\n",
       "        vertical-align: middle;\n",
       "    }\n",
       "\n",
       "    .dataframe tbody tr th {\n",
       "        vertical-align: top;\n",
       "    }\n",
       "\n",
       "    .dataframe thead th {\n",
       "        text-align: right;\n",
       "    }\n",
       "</style>\n",
       "<table border=\"1\" class=\"dataframe\">\n",
       "  <thead>\n",
       "    <tr style=\"text-align: right;\">\n",
       "      <th></th>\n",
       "      <th>RollNo</th>\n",
       "      <th>Name</th>\n",
       "      <th>Age</th>\n",
       "      <th>Gender</th>\n",
       "      <th>Country</th>\n",
       "      <th>Course</th>\n",
       "    </tr>\n",
       "  </thead>\n",
       "  <tbody>\n",
       "    <tr>\n",
       "      <th>12</th>\n",
       "      <td>mit23f1020</td>\n",
       "      <td>Asahi</td>\n",
       "      <td>26</td>\n",
       "      <td>M</td>\n",
       "      <td>China</td>\n",
       "      <td>Math</td>\n",
       "    </tr>\n",
       "    <tr>\n",
       "      <th>13</th>\n",
       "      <td>mit23f1021</td>\n",
       "      <td>Sara</td>\n",
       "      <td>25</td>\n",
       "      <td>F</td>\n",
       "      <td>Japan</td>\n",
       "      <td>Math</td>\n",
       "    </tr>\n",
       "  </tbody>\n",
       "</table>\n",
       "</div>"
      ],
      "text/plain": [
       "        RollNo   Name  Age Gender Country Course\n",
       "12  mit23f1020  Asahi   26      M   China   Math\n",
       "13  mit23f1021   Sara   25      F   Japan   Math"
      ]
     },
     "execution_count": 4,
     "metadata": {},
     "output_type": "execute_result"
    }
   ],
   "source": [
    "#print last two rows\n",
    "df1.tail(2)"
   ]
  },
  {
   "cell_type": "code",
   "execution_count": 7,
   "id": "1cde3997",
   "metadata": {},
   "outputs": [],
   "source": [
    "#get all rows where country name = India\n",
    "df2=df1.loc[df1['Country']=='India']\n"
   ]
  },
  {
   "cell_type": "code",
   "execution_count": 6,
   "id": "426bac7e",
   "metadata": {},
   "outputs": [
    {
     "data": {
      "text/plain": [
       "<bound method Series.unique of 0         USA\n",
       "1      France\n",
       "2       Italy\n",
       "3     Germany\n",
       "4         USA\n",
       "5         USA\n",
       "6      France\n",
       "7         USA\n",
       "8       Italy\n",
       "9         USA\n",
       "10      India\n",
       "11      India\n",
       "12      China\n",
       "13      Japan\n",
       "Name: Country, dtype: object>"
      ]
     },
     "execution_count": 6,
     "metadata": {},
     "output_type": "execute_result"
    }
   ],
   "source": [
    "#get unique country name\n",
    "df1[\"Country\"].unique"
   ]
  },
  {
   "cell_type": "code",
   "execution_count": 7,
   "id": "a9a381c4",
   "metadata": {},
   "outputs": [
    {
     "data": {
      "text/plain": [
       "24.5"
      ]
     },
     "execution_count": 7,
     "metadata": {},
     "output_type": "execute_result"
    }
   ],
   "source": [
    "#avg age of indian students\n",
    "df1[df1['Country']=='India'].Age.mean()"
   ]
  },
  {
   "cell_type": "code",
   "execution_count": 8,
   "id": "230d0705",
   "metadata": {},
   "outputs": [
    {
     "data": {
      "text/html": [
       "<div>\n",
       "<style scoped>\n",
       "    .dataframe tbody tr th:only-of-type {\n",
       "        vertical-align: middle;\n",
       "    }\n",
       "\n",
       "    .dataframe tbody tr th {\n",
       "        vertical-align: top;\n",
       "    }\n",
       "\n",
       "    .dataframe thead th {\n",
       "        text-align: right;\n",
       "    }\n",
       "</style>\n",
       "<table border=\"1\" class=\"dataframe\">\n",
       "  <thead>\n",
       "    <tr style=\"text-align: right;\">\n",
       "      <th></th>\n",
       "      <th>RollNo</th>\n",
       "      <th>Name</th>\n",
       "      <th>Age</th>\n",
       "      <th>Gender</th>\n",
       "      <th>Country</th>\n",
       "      <th>Course</th>\n",
       "      <th>country_name</th>\n",
       "    </tr>\n",
       "  </thead>\n",
       "  <tbody>\n",
       "    <tr>\n",
       "      <th>0</th>\n",
       "      <td>mit23f1008</td>\n",
       "      <td>Paul</td>\n",
       "      <td>25</td>\n",
       "      <td>M</td>\n",
       "      <td>USA</td>\n",
       "      <td>Biology</td>\n",
       "      <td>PaulUSA</td>\n",
       "    </tr>\n",
       "    <tr>\n",
       "      <th>1</th>\n",
       "      <td>mit23f1009</td>\n",
       "      <td>Roger</td>\n",
       "      <td>24</td>\n",
       "      <td>M</td>\n",
       "      <td>France</td>\n",
       "      <td>Physics</td>\n",
       "      <td>RogerFrance</td>\n",
       "    </tr>\n",
       "    <tr>\n",
       "      <th>2</th>\n",
       "      <td>mit23f1010</td>\n",
       "      <td>Kerin</td>\n",
       "      <td>26</td>\n",
       "      <td>M</td>\n",
       "      <td>Italy</td>\n",
       "      <td>Biology</td>\n",
       "      <td>KerinItaly</td>\n",
       "    </tr>\n",
       "    <tr>\n",
       "      <th>3</th>\n",
       "      <td>mit23f1011</td>\n",
       "      <td>Alexander</td>\n",
       "      <td>23</td>\n",
       "      <td>M</td>\n",
       "      <td>Germany</td>\n",
       "      <td>Chemistry</td>\n",
       "      <td>AlexanderGermany</td>\n",
       "    </tr>\n",
       "    <tr>\n",
       "      <th>4</th>\n",
       "      <td>mit23f1012</td>\n",
       "      <td>Anna</td>\n",
       "      <td>25</td>\n",
       "      <td>F</td>\n",
       "      <td>USA</td>\n",
       "      <td>Biology</td>\n",
       "      <td>AnnaUSA</td>\n",
       "    </tr>\n",
       "  </tbody>\n",
       "</table>\n",
       "</div>"
      ],
      "text/plain": [
       "       RollNo       Name  Age Gender  Country     Course      country_name\n",
       "0  mit23f1008       Paul   25      M      USA    Biology           PaulUSA\n",
       "1  mit23f1009      Roger   24      M   France    Physics       RogerFrance\n",
       "2  mit23f1010      Kerin   26      M    Italy    Biology        KerinItaly\n",
       "3  mit23f1011  Alexander   23      M  Germany  Chemistry  AlexanderGermany\n",
       "4  mit23f1012       Anna   25      F      USA    Biology           AnnaUSA"
      ]
     },
     "execution_count": 8,
     "metadata": {},
     "output_type": "execute_result"
    }
   ],
   "source": [
    "#create new column by name+country\n",
    "df1[\"country_name\"] = df1[\"Name\"] + df1[\"Country\"]\n",
    "df1.head()"
   ]
  },
  {
   "cell_type": "code",
   "execution_count": 9,
   "id": "6bcdef74",
   "metadata": {},
   "outputs": [
    {
     "data": {
      "text/plain": [
       "Course\n",
       "Biology      25.333333\n",
       "Chemistry    24.500000\n",
       "Math         25.000000\n",
       "Physics      25.000000\n",
       "Name: Age, dtype: float64"
      ]
     },
     "execution_count": 9,
     "metadata": {},
     "output_type": "execute_result"
    }
   ],
   "source": [
    "#group by avg age for course\n",
    "df1.groupby('Course').Age.mean()"
   ]
  },
  {
   "cell_type": "code",
   "execution_count": 10,
   "id": "f6f5f351",
   "metadata": {},
   "outputs": [
    {
     "data": {
      "text/plain": [
       "Gender\n",
       "F    24.600000\n",
       "M    25.111111\n",
       "Name: Age, dtype: float64"
      ]
     },
     "execution_count": 10,
     "metadata": {},
     "output_type": "execute_result"
    }
   ],
   "source": [
    "#group by avg age for gender\n",
    "df1.groupby('Gender').Age.mean()"
   ]
  },
  {
   "cell_type": "code",
   "execution_count": 11,
   "id": "1c4c7a63",
   "metadata": {},
   "outputs": [
    {
     "data": {
      "text/html": [
       "<div>\n",
       "<style scoped>\n",
       "    .dataframe tbody tr th:only-of-type {\n",
       "        vertical-align: middle;\n",
       "    }\n",
       "\n",
       "    .dataframe tbody tr th {\n",
       "        vertical-align: top;\n",
       "    }\n",
       "\n",
       "    .dataframe thead th {\n",
       "        text-align: right;\n",
       "    }\n",
       "</style>\n",
       "<table border=\"1\" class=\"dataframe\">\n",
       "  <thead>\n",
       "    <tr style=\"text-align: right;\">\n",
       "      <th></th>\n",
       "      <th>RollNo</th>\n",
       "      <th>Name</th>\n",
       "      <th>Age</th>\n",
       "      <th>Gender</th>\n",
       "      <th>Country</th>\n",
       "      <th>Course</th>\n",
       "      <th>country_name</th>\n",
       "    </tr>\n",
       "  </thead>\n",
       "  <tbody>\n",
       "    <tr>\n",
       "      <th>3</th>\n",
       "      <td>mit23f1011</td>\n",
       "      <td>Alexander</td>\n",
       "      <td>23</td>\n",
       "      <td>M</td>\n",
       "      <td>Germany</td>\n",
       "      <td>Chemistry</td>\n",
       "      <td>AlexanderGermany</td>\n",
       "    </tr>\n",
       "    <tr>\n",
       "      <th>1</th>\n",
       "      <td>mit23f1009</td>\n",
       "      <td>Roger</td>\n",
       "      <td>24</td>\n",
       "      <td>M</td>\n",
       "      <td>France</td>\n",
       "      <td>Physics</td>\n",
       "      <td>RogerFrance</td>\n",
       "    </tr>\n",
       "    <tr>\n",
       "      <th>5</th>\n",
       "      <td>mit23f1013</td>\n",
       "      <td>Katherine</td>\n",
       "      <td>24</td>\n",
       "      <td>F</td>\n",
       "      <td>USA</td>\n",
       "      <td>Chemistry</td>\n",
       "      <td>KatherineUSA</td>\n",
       "    </tr>\n",
       "    <tr>\n",
       "      <th>10</th>\n",
       "      <td>mit23f1018</td>\n",
       "      <td>Aadwaita</td>\n",
       "      <td>24</td>\n",
       "      <td>F</td>\n",
       "      <td>India</td>\n",
       "      <td>Math</td>\n",
       "      <td>AadwaitaIndia</td>\n",
       "    </tr>\n",
       "    <tr>\n",
       "      <th>0</th>\n",
       "      <td>mit23f1008</td>\n",
       "      <td>Paul</td>\n",
       "      <td>25</td>\n",
       "      <td>M</td>\n",
       "      <td>USA</td>\n",
       "      <td>Biology</td>\n",
       "      <td>PaulUSA</td>\n",
       "    </tr>\n",
       "    <tr>\n",
       "      <th>4</th>\n",
       "      <td>mit23f1012</td>\n",
       "      <td>Anna</td>\n",
       "      <td>25</td>\n",
       "      <td>F</td>\n",
       "      <td>USA</td>\n",
       "      <td>Biology</td>\n",
       "      <td>AnnaUSA</td>\n",
       "    </tr>\n",
       "    <tr>\n",
       "      <th>6</th>\n",
       "      <td>mit23f1014</td>\n",
       "      <td>Michel</td>\n",
       "      <td>25</td>\n",
       "      <td>F</td>\n",
       "      <td>France</td>\n",
       "      <td>Chemistry</td>\n",
       "      <td>MichelFrance</td>\n",
       "    </tr>\n",
       "    <tr>\n",
       "      <th>9</th>\n",
       "      <td>mit23f1017</td>\n",
       "      <td>Evan</td>\n",
       "      <td>25</td>\n",
       "      <td>M</td>\n",
       "      <td>USA</td>\n",
       "      <td>Physics</td>\n",
       "      <td>EvanUSA</td>\n",
       "    </tr>\n",
       "    <tr>\n",
       "      <th>11</th>\n",
       "      <td>mit23f1019</td>\n",
       "      <td>Bharathan</td>\n",
       "      <td>25</td>\n",
       "      <td>M</td>\n",
       "      <td>India</td>\n",
       "      <td>Physics</td>\n",
       "      <td>BharathanIndia</td>\n",
       "    </tr>\n",
       "    <tr>\n",
       "      <th>13</th>\n",
       "      <td>mit23f1021</td>\n",
       "      <td>Sara</td>\n",
       "      <td>25</td>\n",
       "      <td>F</td>\n",
       "      <td>Japan</td>\n",
       "      <td>Math</td>\n",
       "      <td>SaraJapan</td>\n",
       "    </tr>\n",
       "    <tr>\n",
       "      <th>2</th>\n",
       "      <td>mit23f1010</td>\n",
       "      <td>Kerin</td>\n",
       "      <td>26</td>\n",
       "      <td>M</td>\n",
       "      <td>Italy</td>\n",
       "      <td>Biology</td>\n",
       "      <td>KerinItaly</td>\n",
       "    </tr>\n",
       "    <tr>\n",
       "      <th>7</th>\n",
       "      <td>mit23f1015</td>\n",
       "      <td>Nic</td>\n",
       "      <td>26</td>\n",
       "      <td>M</td>\n",
       "      <td>USA</td>\n",
       "      <td>Chemistry</td>\n",
       "      <td>NicUSA</td>\n",
       "    </tr>\n",
       "    <tr>\n",
       "      <th>8</th>\n",
       "      <td>mit23f1016</td>\n",
       "      <td>James</td>\n",
       "      <td>26</td>\n",
       "      <td>M</td>\n",
       "      <td>Italy</td>\n",
       "      <td>Physics</td>\n",
       "      <td>JamesItaly</td>\n",
       "    </tr>\n",
       "    <tr>\n",
       "      <th>12</th>\n",
       "      <td>mit23f1020</td>\n",
       "      <td>Asahi</td>\n",
       "      <td>26</td>\n",
       "      <td>M</td>\n",
       "      <td>China</td>\n",
       "      <td>Math</td>\n",
       "      <td>AsahiChina</td>\n",
       "    </tr>\n",
       "  </tbody>\n",
       "</table>\n",
       "</div>"
      ],
      "text/plain": [
       "        RollNo       Name  Age Gender  Country     Course      country_name\n",
       "3   mit23f1011  Alexander   23      M  Germany  Chemistry  AlexanderGermany\n",
       "1   mit23f1009      Roger   24      M   France    Physics       RogerFrance\n",
       "5   mit23f1013  Katherine   24      F      USA  Chemistry      KatherineUSA\n",
       "10  mit23f1018   Aadwaita   24      F    India       Math     AadwaitaIndia\n",
       "0   mit23f1008       Paul   25      M      USA    Biology           PaulUSA\n",
       "4   mit23f1012       Anna   25      F      USA    Biology           AnnaUSA\n",
       "6   mit23f1014     Michel   25      F   France  Chemistry      MichelFrance\n",
       "9   mit23f1017       Evan   25      M      USA    Physics           EvanUSA\n",
       "11  mit23f1019  Bharathan   25      M    India    Physics    BharathanIndia\n",
       "13  mit23f1021       Sara   25      F    Japan       Math         SaraJapan\n",
       "2   mit23f1010      Kerin   26      M    Italy    Biology        KerinItaly\n",
       "7   mit23f1015        Nic   26      M      USA  Chemistry            NicUSA\n",
       "8   mit23f1016      James   26      M    Italy    Physics        JamesItaly\n",
       "12  mit23f1020      Asahi   26      M    China       Math        AsahiChina"
      ]
     },
     "execution_count": 11,
     "metadata": {},
     "output_type": "execute_result"
    }
   ],
   "source": [
    "#sort df1 by age\n",
    "df1.sort_values(by='Age')"
   ]
  },
  {
   "cell_type": "code",
   "execution_count": 12,
   "id": "a72a97f9",
   "metadata": {},
   "outputs": [],
   "source": [
    "#read both df1 and df2\n",
    "df1=pd.read_csv(\"C:\\\\Users\\\\prasanna\\\\df1.csv\")\n",
    "df2=pd.read_csv(\"C:\\\\Users\\\\prasanna\\\\df2.csv\")"
   ]
  },
  {
   "cell_type": "code",
   "execution_count": 16,
   "id": "7ae11215",
   "metadata": {},
   "outputs": [
    {
     "data": {
      "text/html": [
       "<div>\n",
       "<style scoped>\n",
       "    .dataframe tbody tr th:only-of-type {\n",
       "        vertical-align: middle;\n",
       "    }\n",
       "\n",
       "    .dataframe tbody tr th {\n",
       "        vertical-align: top;\n",
       "    }\n",
       "\n",
       "    .dataframe thead th {\n",
       "        text-align: right;\n",
       "    }\n",
       "</style>\n",
       "<table border=\"1\" class=\"dataframe\">\n",
       "  <thead>\n",
       "    <tr style=\"text-align: right;\">\n",
       "      <th></th>\n",
       "      <th>RollNo</th>\n",
       "      <th>Name_x</th>\n",
       "      <th>Age_x</th>\n",
       "      <th>Gender_x</th>\n",
       "      <th>Country_x</th>\n",
       "      <th>Course_x</th>\n",
       "      <th>Name_y</th>\n",
       "      <th>Age_y</th>\n",
       "      <th>Gender_y</th>\n",
       "      <th>Country_y</th>\n",
       "      <th>Course_y</th>\n",
       "    </tr>\n",
       "  </thead>\n",
       "  <tbody>\n",
       "    <tr>\n",
       "      <th>0</th>\n",
       "      <td>mit23f1010</td>\n",
       "      <td>Kerin</td>\n",
       "      <td>26</td>\n",
       "      <td>M</td>\n",
       "      <td>Italy</td>\n",
       "      <td>Biology</td>\n",
       "      <td>Kerin</td>\n",
       "      <td>26</td>\n",
       "      <td>M</td>\n",
       "      <td>Italy</td>\n",
       "      <td>Biology</td>\n",
       "    </tr>\n",
       "    <tr>\n",
       "      <th>1</th>\n",
       "      <td>mit23f1011</td>\n",
       "      <td>Alexander</td>\n",
       "      <td>23</td>\n",
       "      <td>M</td>\n",
       "      <td>Germany</td>\n",
       "      <td>Chemistry</td>\n",
       "      <td>Alexander</td>\n",
       "      <td>23</td>\n",
       "      <td>M</td>\n",
       "      <td>Germany</td>\n",
       "      <td>Chemistry</td>\n",
       "    </tr>\n",
       "    <tr>\n",
       "      <th>2</th>\n",
       "      <td>mit23f1013</td>\n",
       "      <td>Katherine</td>\n",
       "      <td>24</td>\n",
       "      <td>F</td>\n",
       "      <td>USA</td>\n",
       "      <td>Chemistry</td>\n",
       "      <td>Katherine</td>\n",
       "      <td>24</td>\n",
       "      <td>F</td>\n",
       "      <td>USA</td>\n",
       "      <td>Chemistry</td>\n",
       "    </tr>\n",
       "    <tr>\n",
       "      <th>3</th>\n",
       "      <td>mit23f1019</td>\n",
       "      <td>Bharathan</td>\n",
       "      <td>25</td>\n",
       "      <td>M</td>\n",
       "      <td>India</td>\n",
       "      <td>Physics</td>\n",
       "      <td>Bharathan</td>\n",
       "      <td>25</td>\n",
       "      <td>M</td>\n",
       "      <td>India</td>\n",
       "      <td>Physics</td>\n",
       "    </tr>\n",
       "    <tr>\n",
       "      <th>4</th>\n",
       "      <td>mit23f1021</td>\n",
       "      <td>Sara</td>\n",
       "      <td>25</td>\n",
       "      <td>F</td>\n",
       "      <td>Japan</td>\n",
       "      <td>Math</td>\n",
       "      <td>Sara</td>\n",
       "      <td>25</td>\n",
       "      <td>F</td>\n",
       "      <td>Japan</td>\n",
       "      <td>Math</td>\n",
       "    </tr>\n",
       "  </tbody>\n",
       "</table>\n",
       "</div>"
      ],
      "text/plain": [
       "       RollNo     Name_x  Age_x Gender_x Country_x   Course_x     Name_y  \\\n",
       "0  mit23f1010      Kerin     26        M     Italy    Biology      Kerin   \n",
       "1  mit23f1011  Alexander     23        M   Germany  Chemistry  Alexander   \n",
       "2  mit23f1013  Katherine     24        F       USA  Chemistry  Katherine   \n",
       "3  mit23f1019  Bharathan     25        M     India    Physics  Bharathan   \n",
       "4  mit23f1021       Sara     25        F     Japan       Math       Sara   \n",
       "\n",
       "   Age_y Gender_y Country_y   Course_y  \n",
       "0     26        M     Italy    Biology  \n",
       "1     23        M   Germany  Chemistry  \n",
       "2     24        F       USA  Chemistry  \n",
       "3     25        M     India    Physics  \n",
       "4     25        F     Japan       Math  "
      ]
     },
     "execution_count": 16,
     "metadata": {},
     "output_type": "execute_result"
    }
   ],
   "source": [
    "#get all those rows commom in both data sets\n",
    "df4=pd.merge(df1,df2,on = 'RollNo' , how='inner')\n",
    "df4"
   ]
  },
  {
   "cell_type": "code",
   "execution_count": 14,
   "id": "ebd8d6eb",
   "metadata": {},
   "outputs": [
    {
     "data": {
      "text/plain": [
       "(28, 6)"
      ]
     },
     "execution_count": 14,
     "metadata": {},
     "output_type": "execute_result"
    }
   ],
   "source": [
    "#concatenate by rows of both data sets\n",
    "df3=pd.concat([df1,df2],axis = 0)\n",
    "df3.shape"
   ]
  },
  {
   "cell_type": "code",
   "execution_count": 15,
   "id": "20130c64",
   "metadata": {},
   "outputs": [
    {
     "data": {
      "text/plain": [
       "Country\n",
       "China      26.000000\n",
       "France     25.000000\n",
       "Germany    23.333333\n",
       "India      24.500000\n",
       "Italy      26.000000\n",
       "Japan      24.666667\n",
       "UK         24.666667\n",
       "USA        25.125000\n",
       "Name: Age, dtype: float64"
      ]
     },
     "execution_count": 15,
     "metadata": {},
     "output_type": "execute_result"
    }
   ],
   "source": [
    "#get the average age of students by country from the concatenated dataset\n",
    "df3.groupby('Country').Age.mean()"
   ]
  }
 ],
 "metadata": {
  "kernelspec": {
   "display_name": "Python 3 (ipykernel)",
   "language": "python",
   "name": "python3"
  },
  "language_info": {
   "codemirror_mode": {
    "name": "ipython",
    "version": 3
   },
   "file_extension": ".py",
   "mimetype": "text/x-python",
   "name": "python",
   "nbconvert_exporter": "python",
   "pygments_lexer": "ipython3",
   "version": "3.9.13"
  }
 },
 "nbformat": 4,
 "nbformat_minor": 5
}
